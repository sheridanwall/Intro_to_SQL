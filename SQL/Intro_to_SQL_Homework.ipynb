{
 "cells": [
  {
   "cell_type": "markdown",
   "metadata": {},
   "source": [
    "# Homework 2: SQL in Python (Data and Databases 2020)\n",
    "\n",
    "The next four homework assignments will be in this iPython notebook format. Read the instructions as you go, and type in the necessary code--then run the cells to see if you got it right. Don't worry if you are new to python for this assignment--the only \"code\" you will be writing are SQL statements that you will paste into each myquery variable.\n",
    "\n",
    "\n",
    "## The Challenges\n",
    "\n",
    "For this homework we will be using the tables we imported from the [UN data site](http://data.un.org/Explorer.aspx). You should already have `wind` and `solar` installed. As you will see, this homework asks that you find one more table of your choice from the UN's Energy statistics an import it into the the same database. [I have posted the instructions here](http://floatingmedia.com/columbia/csv_to_sql.html)\n",
    "\n",
    "These are relatively simple CSV files--the only really important columns are `country`, `year` and `usage`. But the tricky part is that most countries have multiple entries: one for every year the UN has been gathering data on that country. So most of these queries are going to ask you to get electrical usage results based on country and year. (Major hint: JOINs are going to need to be based on country AND year.)\n",
    "\n",
    "In the questions below, we focus on exploratory queries--with an emphasis on aggregates and joins. Read the questions carefully, and then write SQL statements that will get you the correct results. (You will want to explore tables and test out queries directly in the shell before you paste them into Python--the error handling for SQL in Python can be confusing, and there should be no errors in the prewritten Python parts of this document. Also, sometimes an error in Python will break your connection with the database--see conn.rollback() below for that solution.\n"
   ]
  },
  {
   "cell_type": "markdown",
   "metadata": {},
   "source": [
    "First things first: Connect to database! \n",
    "(Make sure the cell is selected, then go to the cell menubar and choose \"Run Cells\")"
   ]
  },
  {
   "cell_type": "code",
   "execution_count": 1,
   "metadata": {
    "scrolled": true
   },
   "outputs": [
    {
     "name": "stdout",
     "output_type": "stream",
     "text": [
      "<class 'pg8000.core.Connection'>\n"
     ]
    }
   ],
   "source": [
    "import pg8000\n",
    "#Make sure to get the names of the database and user correct\n",
    "#and to add whatever other parameters you need to connect your psql set up\n",
    "conn = pg8000.connect(database=\"undata\",user=\"sheridanwall\")\n",
    "#pg8000.connect(user, host='localhost', unix_sock=None, port=5432, database=None, password=None, ssl=None, timeout=None, application_name=None, tcp_keepalive=True)\n",
    "\n",
    "#conn = pg8000.connect(database=\"undata\")\n",
    "print(type(conn))"
   ]
  },
  {
   "cell_type": "markdown",
   "metadata": {},
   "source": [
    "If the connection isn't working make sure that you have typed in the name of the database correctly, and your username as well. \n",
    "\n",
    "If you get an error when running one of the SQL cells below, run this conn.rollback() cell to restart your connection."
   ]
  },
  {
   "cell_type": "code",
   "execution_count": 2,
   "metadata": {
    "scrolled": true
   },
   "outputs": [],
   "source": [
    "conn.rollback()"
   ]
  },
  {
   "cell_type": "markdown",
   "metadata": {},
   "source": [
    "## Question 1: Simple(ish) Query \n",
    "\n",
    "Create a statement that searches for the top 15 countries for solar energy usage in 2014. So figure out first what table you are searching and what columns you need (you can figure out the columns by looking at the sample results below). Then you need to test by year so you only get results from 2014, and order it correctly.\n",
    "\n",
    "```\n",
    "Germany 36056.0 mil\n",
    "United States 25764.0 mil\n",
    "Japan 22952.0 mil\n",
    "Italy 22306.0 mil\n",
    "China 15189.0 mil\n",
    "Spain 13673.0 mil\n",
    "France 6391.0 mil\n",
    "India 5020.0 mil\n",
    "United Kingdom 4054.0 mil\n",
    "Australia 4010.0 mil\n",
    "Greece 3792.0 mil\n",
    "Belgium 2883.0 mil\n",
    "Korea, Republic of 2557.0 mil\n",
    "Czechia 2123.0 mil\n",
    "Canada 2120.0 mil\n",
    "```"
   ]
  },
  {
   "cell_type": "code",
   "execution_count": 3,
   "metadata": {
    "scrolled": true
   },
   "outputs": [
    {
     "name": "stdout",
     "output_type": "stream",
     "text": [
      "Germany 36056.0 mil\n",
      "United States 25764.0 mil\n",
      "Japan 22952.0 mil\n",
      "Italy 22306.0 mil\n",
      "China 15189.0 mil\n",
      "Spain 13673.0 mil\n",
      "France 6391.0 mil\n",
      "India 5020.0 mil\n",
      "United Kingdom 4054.0 mil\n",
      "Australia 4010.0 mil\n",
      "Greece 3792.0 mil\n",
      "Belgium 2883.0 mil\n",
      "Korea, Republic of 2557.0 mil\n",
      "Czechia 2123.0 mil\n",
      "Canada 2120.0 mil\n"
     ]
    }
   ],
   "source": [
    "cursor = conn.cursor()\n",
    "myquery = 'SELECT country, usage, year FROM solar WHERE year = 2014 ORDER BY usage DESC NULLS LAST LIMIT 15;'\n",
    "cursor.execute(myquery)\n",
    "for row in cursor:\n",
    "    print(row[0], row[1], \"mil\")"
   ]
  },
  {
   "cell_type": "markdown",
   "metadata": {},
   "source": [
    "## Question 2: aggregate query\n",
    "\n",
    "Using avg(), get the average solar energy usage for each country, and it display only the countries with an average that is above 500 (million). (Remember for aggregates you need to use HAVING to test values, instead of WHERE). Make sure it is properly ordered like the results below, and wrap your avg column in round() to get round numbers:\n",
    "\n",
    "```\n",
    "43567.0 China\n",
    "10537.0 India\n",
    "9627.0 Germany\n",
    "8566.0 United States\n",
    "7185.0 Japan\n",
    "5217.0 Italy\n",
    "3815.0 Spain\n",
    "1961.0 United Kingdom\n",
    "1886.0 France\n",
    "1556.0 Greece\n",
    "1361.0 Belgium\n",
    "1316.0 Czechia\n",
    "1275.0 Australia\n",
    "1217.0 Thailand\n",
    "1186.0 Chile\n",
    "1036.0 Turkey\n",
    "1002.0 South Africa\n",
    "862.0 Korea, Republic of\n",
    "858.0 Bulgaria\n",
    "741.0 Honduras\n",
    "700.0 Romania\n",
    "684.0 Israel\n",
    "633.0 Brazil\n",
    "593.0 Canada\n",
    "525.0 Pakistan\n",
    "```"
   ]
  },
  {
   "cell_type": "code",
   "execution_count": 4,
   "metadata": {
    "scrolled": true
   },
   "outputs": [
    {
     "name": "stdout",
     "output_type": "stream",
     "text": [
      "43567.0 China\n",
      "10537.0 India\n",
      "9627.0 Germany\n",
      "8566.0 United States\n",
      "7185.0 Japan\n",
      "5217.0 Italy\n",
      "3815.0 Spain\n",
      "1961.0 United Kingdom\n",
      "1886.0 France\n",
      "1556.0 Greece\n",
      "1361.0 Belgium\n",
      "1316.0 Czechia\n",
      "1275.0 Australia\n",
      "1217.0 Thailand\n",
      "1186.0 Chile\n",
      "1036.0 Turkey\n",
      "1002.0 South Africa\n",
      "862.0 Korea, Republic of\n",
      "858.0 Bulgaria\n",
      "741.0 Honduras\n",
      "700.0 Romania\n",
      "684.0 Israel\n",
      "633.0 Brazil\n",
      "593.0 Canada\n",
      "525.0 Pakistan\n"
     ]
    }
   ],
   "source": [
    "cursor = conn.cursor()\n",
    "myquery = \"SELECT round(AVG(usage)), country FROM solar GROUP BY country HAVING round(AVG(usage)) > 500 ORDER BY round(AVG(usage)) DESC NULLS LAST;\"\n",
    "cursor.execute(myquery)\n",
    "for row in cursor:\n",
    "    print(row[0],row[1])"
   ]
  },
  {
   "cell_type": "markdown",
   "metadata": {},
   "source": [
    "## Question 3: aggregate query 2\n",
    "\n",
    "Get a list of countries whose Solar Energy data first started being collected in 2012. This is tricky to figure out, but the query should be pretty simple. The main thing you need to figure out is which aggregate function will find the earliest date, and then you need to test if year is 2012. And make it alphabetical by country.\n",
    "\n",
    "\n",
    "```\n",
    "2012 American Samoa\n",
    "2012 Botswana\n",
    "2012 Gabon\n",
    "2012 Lao People's Dem. Rep.\n",
    "2012 Lithuania\n",
    "2012 Marshall Islands\n",
    "2012 Mauritius\n",
    "2012 Nigeria\n",
    "2012 Poland\n",
    "2012 South Sudan\n",
    "2012 St. Helena and Depend.\n",
    "2012 St. Kitts-Nevis\n",
    "2012 United Arab Emirates\n",
    "2012 Venezuela (Bolivar. Rep.)\n",
    "```\n"
   ]
  },
  {
   "cell_type": "code",
   "execution_count": 5,
   "metadata": {
    "scrolled": false
   },
   "outputs": [
    {
     "name": "stdout",
     "output_type": "stream",
     "text": [
      "2012 American Samoa\n",
      "2012 Botswana\n",
      "2012 Gabon\n",
      "2012 Lao People's Dem. Rep.\n",
      "2012 Lithuania\n",
      "2012 Marshall Islands\n",
      "2012 Mauritius\n",
      "2012 Nigeria\n",
      "2012 Poland\n",
      "2012 South Sudan\n",
      "2012 St. Helena and Depend.\n",
      "2012 St. Kitts-Nevis\n",
      "2012 United Arab Emirates\n",
      "2012 Venezuela (Bolivar. Rep.)\n"
     ]
    }
   ],
   "source": [
    "cursor = conn.cursor()\n",
    "myquery = \"SELECT MIN(year), country FROM solar GROUP BY country HAVING MIN(year)=2012 ORDER BY country;\"\n",
    "cursor.execute(myquery)\n",
    "for row in cursor:\n",
    "    print(row[0], row[1])"
   ]
  },
  {
   "cell_type": "markdown",
   "metadata": {},
   "source": [
    "## Question 4: JOIN\n",
    "\n",
    "Get the usage of solar AND wind power for Germany for each year in the tables. There should be four columns total, and you will be joining on two criteria.\n",
    "\n",
    "(Please note that in the results below I am using Python to add in the strings \"solar:\" and \"wind:\")\n",
    "\n",
    "\n",
    "\n",
    "```\n",
    "Germany 1991 \twind: 215.0 \tsolar: 1.0\n",
    "Germany 1992 \twind: 291.0 \tsolar: 4.0\n",
    "Germany 1993 \twind: 674.0 \tsolar: 3.0\n",
    "Germany 1994 \twind: 1428.0 \tsolar: 7.0\n",
    "Germany 1995 \twind: 1712.0 \tsolar: 7.0\n",
    "Germany 1996 \twind: 2078.0 \tsolar: 12.0\n",
    "Germany 1997 \twind: 3034.0 \tsolar: 18.0\n",
    "Germany 1998 \twind: 4593.0 \tsolar: 35.0\n",
    "Germany 1999 \twind: 5528.0 \tsolar: 30.0\n",
    "Germany 2000 \twind: 9352.0 \tsolar: 60.0\n",
    "Germany 2001 \twind: 10456.0 \tsolar: 116.0\n",
    "Germany 2002 \twind: 15856.0 \tsolar: 188.0\n",
    "Germany 2003 \twind: 18713.0 \tsolar: 313.0\n",
    "Germany 2004 \twind: 25509.0 \tsolar: 557.0\n",
    "Germany 2005 \twind: 27229.0 \tsolar: 1282.0\n",
    "Germany 2006 \twind: 30710.0 \tsolar: 2220.0\n",
    "Germany 2007 \twind: 39713.0 \tsolar: 3075.0\n",
    "Germany 2008 \twind: 40574.0 \tsolar: 4420.0\n",
    "Germany 2009 \twind: 38647.0 \tsolar: 6584.0\n",
    "Germany 2010 \twind: 37793.0 \tsolar: 11729.0\n",
    "Germany 2011 \twind: 48883.0 \tsolar: 19599.0\n",
    "Germany 2012 \twind: 50670.0 \tsolar: 26380.0\n",
    "Germany 2013 \twind: 51708.0 \tsolar: 31010.0\n",
    "Germany 2014 \twind: 57357.0 \tsolar: 36056.0\n",
    "Germany 2015 \twind: 79206.0 \tsolar: 38726.0\n",
    "Germany 2016 \twind: 78598.0 \tsolar: 38098.0\n",
    "Germany 2017 \twind: 105693.0 \tsolar: 39401.0\n",
    "```\n",
    "\n",
    "Hint: after the join you need to test that the country is Germany, then order by what?"
   ]
  },
  {
   "cell_type": "code",
   "execution_count": 6,
   "metadata": {
    "scrolled": true
   },
   "outputs": [
    {
     "name": "stdout",
     "output_type": "stream",
     "text": [
      "Germany 1991 \twind: 215.0 \tsolar: 1.0\n",
      "Germany 1992 \twind: 291.0 \tsolar: 4.0\n",
      "Germany 1993 \twind: 674.0 \tsolar: 3.0\n",
      "Germany 1994 \twind: 1428.0 \tsolar: 7.0\n",
      "Germany 1995 \twind: 1712.0 \tsolar: 7.0\n",
      "Germany 1996 \twind: 2078.0 \tsolar: 12.0\n",
      "Germany 1997 \twind: 3034.0 \tsolar: 18.0\n",
      "Germany 1998 \twind: 4593.0 \tsolar: 35.0\n",
      "Germany 1999 \twind: 5528.0 \tsolar: 30.0\n",
      "Germany 2000 \twind: 9352.0 \tsolar: 60.0\n",
      "Germany 2001 \twind: 10456.0 \tsolar: 116.0\n",
      "Germany 2002 \twind: 15856.0 \tsolar: 188.0\n",
      "Germany 2003 \twind: 18713.0 \tsolar: 313.0\n",
      "Germany 2004 \twind: 25509.0 \tsolar: 557.0\n",
      "Germany 2005 \twind: 27229.0 \tsolar: 1282.0\n",
      "Germany 2006 \twind: 30710.0 \tsolar: 2220.0\n",
      "Germany 2007 \twind: 39713.0 \tsolar: 3075.0\n",
      "Germany 2008 \twind: 40574.0 \tsolar: 4420.0\n",
      "Germany 2009 \twind: 38647.0 \tsolar: 6584.0\n",
      "Germany 2010 \twind: 37793.0 \tsolar: 11729.0\n",
      "Germany 2011 \twind: 48883.0 \tsolar: 19599.0\n",
      "Germany 2012 \twind: 50670.0 \tsolar: 26380.0\n",
      "Germany 2013 \twind: 51708.0 \tsolar: 31010.0\n",
      "Germany 2014 \twind: 57357.0 \tsolar: 36056.0\n",
      "Germany 2015 \twind: 79206.0 \tsolar: 38726.0\n",
      "Germany 2016 \twind: 78598.0 \tsolar: 38098.0\n",
      "Germany 2017 \twind: 105693.0 \tsolar: 39401.0\n"
     ]
    }
   ],
   "source": [
    "cursor = conn.cursor()\n",
    "myquery = \"SELECT solar.country, solar.year, windwind.usage, solar.usage FROM solar JOIN windwind ON solar.country = windwind.country AND solar.year = windwind.year WHERE solar.country = 'Germany' ORDER BY solar.year;\"\n",
    "cursor.execute(myquery)\n",
    "for row in cursor:\n",
    "    print(row[0],row[1],\"\\twind:\",row[2],\"\\tsolar:\",row[3])"
   ]
  },
  {
   "cell_type": "markdown",
   "metadata": {},
   "source": [
    "## Question 5: join with aggregates\n",
    "\n",
    "Get the average wind usage and solar usage for each country. Order your results by average solar usage, and show only the top ten countries.\n",
    "\n",
    "```\n",
    "China wind: 139218.44 \tsolar: 43567.20\n",
    "India wind: 11177.18 \tsolar: 10536.60\n",
    "Germany wind: 29119.26 \tsolar: 9627.07\n",
    "United States wind: 60074.25 \tsolar: 8566.00\n",
    "Japan wind: 2079.79 \tsolar: 7185.18\n",
    "Italy wind: 5026.96 \tsolar: 5217.21\n",
    "Spain wind: 21045.68 \tsolar: 3814.57\n",
    "United Kingdom wind: 9752.86 \tsolar: 1960.79\n",
    "France wind: 6411.80 \tsolar: 1885.79\n",
    "Greece wind: 1679.11 \tsolar: 1555.86\n",
    "```"
   ]
  },
  {
   "cell_type": "code",
   "execution_count": 7,
   "metadata": {
    "scrolled": true
   },
   "outputs": [
    {
     "name": "stdout",
     "output_type": "stream",
     "text": [
      "China wind: 139218.44 \tsolar: 43567.20\n",
      "India wind: 11177.18 \tsolar: 10536.60\n",
      "Germany wind: 29119.26 \tsolar: 9627.07\n",
      "United States wind: 60074.25 \tsolar: 8566.00\n",
      "Japan wind: 2079.79 \tsolar: 7185.18\n",
      "Italy wind: 5026.96 \tsolar: 5217.21\n",
      "Spain wind: 21045.68 \tsolar: 3814.57\n",
      "United Kingdom wind: 9752.86 \tsolar: 1960.79\n",
      "France wind: 6411.80 \tsolar: 1885.79\n",
      "Greece wind: 1679.11 \tsolar: 1555.86\n"
     ]
    }
   ],
   "source": [
    "cursor = conn.cursor()\n",
    "myquery = \"SELECT solar.country, AVG(windwind.usage), AVG(solar.usage) FROM solar JOIN windwind ON solar.country = windwind.country GROUP BY solar.country ORDER BY AVG(solar.usage) DESC NULLS LAST LIMIT 10;\"\n",
    "cursor.execute(myquery)\n",
    "for row in cursor:\n",
    "    print(row[0],\"wind:\",\"%.2f\" % row[1],\"\\tsolar:\",\"%.2f\" % row[2])"
   ]
  },
  {
   "cell_type": "markdown",
   "metadata": {},
   "source": [
    "## Question 6: same thing but slightly more complicated\n",
    "\n",
    "Get the average wind usage and solar usage for each country, FROM 2010 TO THE PRESENT. Order your results by average solar usage, and show only the top ten countries.\n",
    "\n",
    "```\n",
    "China wind: 153258.25 \tsolar: 43567.20\n",
    "Germany wind: 63738.50 \tsolar: 30124.88\n",
    "United States wind: 173905.12 \tsolar: 27360.88\n",
    "Japan wind: 5271.50 \tsolar: 23307.25\n",
    "Italy wind: 14092.38 \tsolar: 18110.38\n",
    "Spain wind: 48959.62 \tsolar: 12152.62\n",
    "India wind: 29394.25 \tsolar: 10536.60\n",
    "France wind: 17245.25 \tsolar: 5617.88\n",
    "United Kingdom wind: 29249.12 \tsolar: 4646.38\n",
    "Australia wind: 9072.75 \tsolar: 3861.88\n",
    "```"
   ]
  },
  {
   "cell_type": "code",
   "execution_count": 17,
   "metadata": {
    "scrolled": false
   },
   "outputs": [
    {
     "name": "stdout",
     "output_type": "stream",
     "text": [
      "China wind: 203027.00 \tsolar: 43567.20\n",
      "Germany wind: 63738.50 \tsolar: 30124.88\n",
      "United States wind: 173905.12 \tsolar: 27360.88\n",
      "Japan wind: 5271.50 \tsolar: 23307.25\n",
      "Italy wind: 14092.38 \tsolar: 18110.38\n",
      "Spain wind: 48959.62 \tsolar: 12152.62\n",
      "India wind: 32940.20 \tsolar: 10536.60\n",
      "France wind: 17245.25 \tsolar: 5617.88\n",
      "United Kingdom wind: 29249.12 \tsolar: 4646.38\n",
      "Australia wind: 9072.75 \tsolar: 3861.88\n"
     ]
    }
   ],
   "source": [
    "cursor = conn.cursor()\n",
    "myquery = \"SELECT solar.country, AVG(windwind.usage), AVG(solar.usage) FROM solar JOIN windwind ON solar.country = windwind.country AND solar.year = windwind.year WHERE solar.year>=2010 AND windwind.year>=2010 GROUP BY solar.country ORDER BY AVG(solar.usage) DESC NULLS LAST LIMIT 10;\"\n",
    "cursor.execute(myquery)\n",
    "for row in cursor:\n",
    "    print(row[0],\"wind:\",\"%.2f\" % row[1],\"\\tsolar:\",\"%.2f\" % row[2])"
   ]
  },
  {
   "cell_type": "markdown",
   "metadata": {},
   "source": [
    "## Question 7: Building a basic timeseries\n",
    "\n",
    "Step one: get a list of the first year of data and the most recent year of data for each country from the solar table. Limit the results to the first 15 with the oldest year and then in alphabetical order.\n",
    "\n",
    "```\n",
    "Italy 1990 -- 2017\n",
    "Japan 1990 -- 2017\n",
    "Korea, Republic of 1990 -- 2017\n",
    "Mexico 1990 -- 2017\n",
    "Portugal 1990 -- 2017\n",
    "Spain 1990 -- 2017\n",
    "Switzerland 1990 -- 2017\n",
    "United States 1990 -- 2017\n",
    "Finland 1991 -- 2017\n",
    "Germany 1991 -- 2017\n",
    "Netherlands 1991 -- 2017\n",
    "Canada 1992 -- 2017\n",
    "Australia 1993 -- 2017\n",
    "Austria 1993 -- 2017\n",
    "Liechtenstein 1993 -- 2018\n",
    "```"
   ]
  },
  {
   "cell_type": "code",
   "execution_count": 9,
   "metadata": {
    "scrolled": false
   },
   "outputs": [
    {
     "name": "stdout",
     "output_type": "stream",
     "text": [
      "Italy 1990 -- 2017\n",
      "Japan 1990 -- 2017\n",
      "Korea, Republic of 1990 -- 2017\n",
      "Mexico 1990 -- 2017\n",
      "Portugal 1990 -- 2017\n",
      "Spain 1990 -- 2017\n",
      "Switzerland 1990 -- 2017\n",
      "United States 1990 -- 2017\n",
      "Finland 1991 -- 2017\n",
      "Germany 1991 -- 2017\n",
      "Netherlands 1991 -- 2017\n",
      "Canada 1992 -- 2017\n",
      "Australia 1993 -- 2017\n",
      "Austria 1993 -- 2017\n",
      "Liechtenstein 1993 -- 2018\n"
     ]
    }
   ],
   "source": [
    "cursor = conn.cursor()\n",
    "myquery = 'SELECT country, MIN(year), MAX(year) FROM solar GROUP BY country ORDER BY MIN(year), country LIMIT 15;'\n",
    "cursor.execute(myquery)\n",
    "for row in cursor:\n",
    "    print(row[0],row[1],\"--\",row[2])"
   ]
  },
  {
   "cell_type": "markdown",
   "metadata": {},
   "source": [
    "## Question 8: Building a timeseries (Bonus Question, skip if you need to--but don't skip the next one!)\n",
    "\n",
    "Step two: Take that previous query, (order, limit and everything) and turn that into a subquery, and join the solar table on it twice, first to get the usage from the earliest date, next get the usage from the most recent date. Order it by the most usage from the most recent year.\n",
    "\n",
    "Note: to join at the same table twice, you need to alias the table (solar as sl1, solar as sl2). I have given you the template for a subquery below. This is getting very challenging, so how far you can get. \n",
    "```\n",
    "United States 1990 -- 2017 usage change:  666.0 -- 70980.0\n",
    "Japan 1990 -- 2017 usage change:  67.0 -- 55068.0\n",
    "Germany 1991 -- 2017 usage change:  1.0 -- 39401.0\n",
    "Italy 1990 -- 2017 usage change:  4.0 -- 24378.0\n",
    "Spain 1990 -- 2017 usage change:  9.0 -- 14397.0\n",
    "Australia 1993 -- 2017 usage change:  11.0 -- 8073.0\n",
    "Korea, Republic of 1990 -- 2017 usage change:  1.0 -- 7057.0\n",
    "Canada 1992 -- 2017 usage change:  2.0 -- 3573.0\n",
    "Netherlands 1991 -- 2017 usage change:  1.0 -- 2204.0\n",
    "Switzerland 1990 -- 2017 usage change:  1.0 -- 1683.0\n",
    "Austria 1993 -- 2017 usage change:  1.0 -- 1269.0\n",
    "Mexico 1990 -- 2017 usage change:  1.0 -- 1085.0\n",
    "Portugal 1990 -- 2017 usage change:  1.0 -- 992.0\n",
    "Finland 1991 -- 2017 usage change:  1.0 -- 43.0\n",
    "Liechtenstein 1993 -- 2018 usage change:  0.008 -- 24.4\n",
    "```"
   ]
  },
  {
   "cell_type": "code",
   "execution_count": 10,
   "metadata": {
    "scrolled": false
   },
   "outputs": [
    {
     "ename": "ProgrammingError",
     "evalue": "{'S': 'ERROR', 'V': 'ERROR', 'C': '42601', 'M': 'syntax error at or near \"entire\"', 'P': '24', 'F': 'scan.l', 'L': '1180', 'R': 'scanner_yyerror'}",
     "output_type": "error",
     "traceback": [
      "\u001b[0;31m---------------------------------------------------------------------------\u001b[0m",
      "\u001b[0;31mProgrammingError\u001b[0m                          Traceback (most recent call last)",
      "\u001b[0;32m<ipython-input-10-3dacf6f37e34>\u001b[0m in \u001b[0;36m<module>\u001b[0;34m\u001b[0m\n\u001b[1;32m      7\u001b[0m \u001b[0mORDER\u001b[0m \u001b[0mBY\u001b[0m\u001b[0;34m\u001b[0m\u001b[0;34m\u001b[0m\u001b[0m\n\u001b[1;32m      8\u001b[0m '''  \n\u001b[0;32m----> 9\u001b[0;31m \u001b[0mcursor\u001b[0m\u001b[0;34m.\u001b[0m\u001b[0mexecute\u001b[0m\u001b[0;34m(\u001b[0m\u001b[0mmyquery\u001b[0m\u001b[0;34m)\u001b[0m\u001b[0;34m\u001b[0m\u001b[0;34m\u001b[0m\u001b[0m\n\u001b[0m\u001b[1;32m     10\u001b[0m \u001b[0;32mfor\u001b[0m \u001b[0mrow\u001b[0m \u001b[0;32min\u001b[0m \u001b[0mcursor\u001b[0m\u001b[0;34m:\u001b[0m\u001b[0;34m\u001b[0m\u001b[0;34m\u001b[0m\u001b[0m\n\u001b[1;32m     11\u001b[0m     \u001b[0mprint\u001b[0m\u001b[0;34m(\u001b[0m\u001b[0mrow\u001b[0m\u001b[0;34m[\u001b[0m\u001b[0;36m0\u001b[0m\u001b[0;34m]\u001b[0m\u001b[0;34m,\u001b[0m\u001b[0mrow\u001b[0m\u001b[0;34m[\u001b[0m\u001b[0;36m1\u001b[0m\u001b[0;34m]\u001b[0m\u001b[0;34m,\u001b[0m\u001b[0;34m\"--\"\u001b[0m\u001b[0;34m,\u001b[0m\u001b[0mrow\u001b[0m\u001b[0;34m[\u001b[0m\u001b[0;36m2\u001b[0m\u001b[0;34m]\u001b[0m\u001b[0;34m,\u001b[0m\u001b[0;34m\"usage change: \"\u001b[0m\u001b[0;34m,\u001b[0m \u001b[0mrow\u001b[0m\u001b[0;34m[\u001b[0m\u001b[0;36m3\u001b[0m\u001b[0;34m]\u001b[0m\u001b[0;34m,\u001b[0m\u001b[0;34m\"--\"\u001b[0m\u001b[0;34m,\u001b[0m\u001b[0mrow\u001b[0m\u001b[0;34m[\u001b[0m\u001b[0;36m4\u001b[0m\u001b[0;34m]\u001b[0m\u001b[0;34m)\u001b[0m\u001b[0;34m\u001b[0m\u001b[0;34m\u001b[0m\u001b[0m\n",
      "\u001b[0;32m~/.pyenv/versions/3.8.2/lib/python3.8/site-packages/pg8000/core.py\u001b[0m in \u001b[0;36mexecute\u001b[0;34m(self, operation, args, stream)\u001b[0m\n\u001b[1;32m    339\u001b[0m             \u001b[0;32mif\u001b[0m \u001b[0;32mnot\u001b[0m \u001b[0mself\u001b[0m\u001b[0;34m.\u001b[0m\u001b[0m_c\u001b[0m\u001b[0;34m.\u001b[0m\u001b[0min_transaction\u001b[0m \u001b[0;32mand\u001b[0m \u001b[0;32mnot\u001b[0m \u001b[0mself\u001b[0m\u001b[0;34m.\u001b[0m\u001b[0m_c\u001b[0m\u001b[0;34m.\u001b[0m\u001b[0mautocommit\u001b[0m\u001b[0;34m:\u001b[0m\u001b[0;34m\u001b[0m\u001b[0;34m\u001b[0m\u001b[0m\n\u001b[1;32m    340\u001b[0m                 \u001b[0mself\u001b[0m\u001b[0;34m.\u001b[0m\u001b[0m_c\u001b[0m\u001b[0;34m.\u001b[0m\u001b[0mexecute_unnamed\u001b[0m\u001b[0;34m(\u001b[0m\u001b[0mself\u001b[0m\u001b[0;34m,\u001b[0m \u001b[0;34m\"begin transaction\"\u001b[0m\u001b[0;34m)\u001b[0m\u001b[0;34m\u001b[0m\u001b[0;34m\u001b[0m\u001b[0m\n\u001b[0;32m--> 341\u001b[0;31m             self._c.execute_unnamed(\n\u001b[0m\u001b[1;32m    342\u001b[0m                 \u001b[0mself\u001b[0m\u001b[0;34m,\u001b[0m \u001b[0moperation\u001b[0m\u001b[0;34m,\u001b[0m \u001b[0mvals\u001b[0m\u001b[0;34m=\u001b[0m\u001b[0margs\u001b[0m\u001b[0;34m,\u001b[0m \u001b[0minput_oids\u001b[0m\u001b[0;34m=\u001b[0m\u001b[0mself\u001b[0m\u001b[0;34m.\u001b[0m\u001b[0m_input_oids\u001b[0m\u001b[0;34m,\u001b[0m\u001b[0;34m\u001b[0m\u001b[0;34m\u001b[0m\u001b[0m\n\u001b[1;32m    343\u001b[0m                 stream=stream)\n",
      "\u001b[0;32m~/.pyenv/versions/3.8.2/lib/python3.8/site-packages/pg8000/core.py\u001b[0m in \u001b[0;36mexecute_unnamed\u001b[0;34m(self, cursor, operation, vals, input_oids, stream)\u001b[0m\n\u001b[1;32m   1212\u001b[0m             \u001b[0mself\u001b[0m\u001b[0;34m.\u001b[0m\u001b[0msend_QUERY\u001b[0m\u001b[0;34m(\u001b[0m\u001b[0moperation\u001b[0m\u001b[0;34m)\u001b[0m\u001b[0;34m\u001b[0m\u001b[0;34m\u001b[0m\u001b[0m\n\u001b[1;32m   1213\u001b[0m             \u001b[0mself\u001b[0m\u001b[0;34m.\u001b[0m\u001b[0m_flush\u001b[0m\u001b[0;34m(\u001b[0m\u001b[0;34m)\u001b[0m\u001b[0;34m\u001b[0m\u001b[0;34m\u001b[0m\u001b[0m\n\u001b[0;32m-> 1214\u001b[0;31m             \u001b[0mself\u001b[0m\u001b[0;34m.\u001b[0m\u001b[0mhandle_messages\u001b[0m\u001b[0;34m(\u001b[0m\u001b[0mcursor\u001b[0m\u001b[0;34m)\u001b[0m\u001b[0;34m\u001b[0m\u001b[0;34m\u001b[0m\u001b[0m\n\u001b[0m\u001b[1;32m   1215\u001b[0m         \u001b[0;32melse\u001b[0m\u001b[0;34m:\u001b[0m\u001b[0;34m\u001b[0m\u001b[0;34m\u001b[0m\u001b[0m\n\u001b[1;32m   1216\u001b[0m             statement, make_args = convert_paramstyle(\n",
      "\u001b[0;32m~/.pyenv/versions/3.8.2/lib/python3.8/site-packages/pg8000/core.py\u001b[0m in \u001b[0;36mhandle_messages\u001b[0;34m(self, cursor)\u001b[0m\n\u001b[1;32m   1379\u001b[0m \u001b[0;34m\u001b[0m\u001b[0m\n\u001b[1;32m   1380\u001b[0m         \u001b[0;32mif\u001b[0m \u001b[0mself\u001b[0m\u001b[0;34m.\u001b[0m\u001b[0merror\u001b[0m \u001b[0;32mis\u001b[0m \u001b[0;32mnot\u001b[0m \u001b[0;32mNone\u001b[0m\u001b[0;34m:\u001b[0m\u001b[0;34m\u001b[0m\u001b[0;34m\u001b[0m\u001b[0m\n\u001b[0;32m-> 1381\u001b[0;31m             \u001b[0;32mraise\u001b[0m \u001b[0mself\u001b[0m\u001b[0;34m.\u001b[0m\u001b[0merror\u001b[0m\u001b[0;34m\u001b[0m\u001b[0;34m\u001b[0m\u001b[0m\n\u001b[0m\u001b[1;32m   1382\u001b[0m \u001b[0;34m\u001b[0m\u001b[0m\n\u001b[1;32m   1383\u001b[0m     \u001b[0;31m# Byte1('C') - Identifies the message as a close command.\u001b[0m\u001b[0;34m\u001b[0m\u001b[0;34m\u001b[0m\u001b[0;34m\u001b[0m\u001b[0m\n",
      "\u001b[0;31mProgrammingError\u001b[0m: {'S': 'ERROR', 'V': 'ERROR', 'C': '42601', 'M': 'syntax error at or near \"entire\"', 'P': '24', 'F': 'scan.l', 'L': '1180', 'R': 'scanner_yyerror'}"
     ]
    }
   ],
   "source": [
    "cursor = conn.cursor()\n",
    "myquery = '''\n",
    "SELECT\n",
    "FROM (put your entire query from question #7 in here) as tseries\n",
    "JOIN solar as sl1 ...\n",
    "JOIN solar as sl2 ...\n",
    "ORDER BY\n",
    "'''  \n",
    "cursor.execute(myquery)\n",
    "for row in cursor:\n",
    "    print(row[0],row[1],\"--\",row[2],\"usage change: \", row[3],\"--\",row[4])"
   ]
  },
  {
   "cell_type": "markdown",
   "metadata": {},
   "source": [
    "## Question 9: join with aggregates, new data\n",
    "\n",
    "Your final task: go back to the [UN data site](http://data.un.org/Explorer.aspx) and download another table of your choice from the energy statistics. [Full instructions here.](http://floatingmedia.com/columbia/csv_to_sql.html) Choose a table that has similar columns to the wind and energy tables, and input it into your database.  Make sure you test that everything is working in the shell before going back to Python.\n",
    "\n",
    "Now, write a query that joins the third table to the query you made in Question 5. Get the average use for each Energy type: Solar, Wind, and the table you chose. Order it by the energy type you chose (that column should come first after the country). And display the top 10 countries by the average of the energy type that you added, along with the averages for solar and wind.\n"
   ]
  },
  {
   "cell_type": "code",
   "execution_count": 19,
   "metadata": {
    "scrolled": true
   },
   "outputs": [
    {
     "name": "stdout",
     "output_type": "stream",
     "text": [
      "China 139218.44 43567.20 479493.00\n",
      "Canada 6817.58 592.65 353221.79\n",
      "Brazil 14780.83 632.83 321711.00\n",
      "United States 60074.25 8566.00 300299.14\n",
      "Russian Federation 28.95 378.75 171180.50\n",
      "India 11177.18 10536.60 94655.11\n",
      "Japan 2079.79 7185.18 92439.36\n",
      "Sweden 3551.64 25.00 67724.68\n",
      "France 6411.80 1885.79 66598.00\n",
      "Venezuela (Bolivar. Rep.) 94.27 4.87 65899.00\n"
     ]
    }
   ],
   "source": [
    "cursor = conn.cursor()\n",
    "myquery = \"SELECT solar.country, AVG(windwind.usage) AS wind, AVG(solar.usage) AS solar, AVG(hydro.usage) AS hydro FROM solar JOIN windwind ON solar.country = windwind.country JOIN hydro ON solar.country = hydro.country GROUP BY solar.country ORDER BY hydro DESC NULLS LAST LIMIT 10;\"\n",
    "cursor.execute(myquery)\n",
    "for row in cursor:\n",
    "    print(row[0],\"%.2f\" % row[1],\"%.2f\" % row[2],\"%.2f\" % row[3])"
   ]
  },
  {
   "cell_type": "markdown",
   "metadata": {},
   "source": [
    "Great work! You're done."
   ]
  }
 ],
 "metadata": {
  "kernelspec": {
   "display_name": "Python 3",
   "language": "python",
   "name": "python3"
  },
  "language_info": {
   "codemirror_mode": {
    "name": "ipython",
    "version": 3
   },
   "file_extension": ".py",
   "mimetype": "text/x-python",
   "name": "python",
   "nbconvert_exporter": "python",
   "pygments_lexer": "ipython3",
   "version": "3.8.2"
  }
 },
 "nbformat": 4,
 "nbformat_minor": 1
}
